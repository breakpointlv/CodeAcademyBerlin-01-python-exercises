{
 "cells": [
  {
   "cell_type": "code",
   "execution_count": 23,
   "metadata": {
    "collapsed": true
   },
   "outputs": [
    {
     "name": "stdout",
     "output_type": "stream",
     "text": [
      "True\n",
      "False\n",
      "False\n",
      "True\n",
      "False\n"
     ]
    }
   ],
   "source": [
    "def XO(str):\n",
    "    return str.count('o') == str.count('x')\n",
    "\n",
    "print(XO(\"ooxx\")) # true\n",
    "print(XO(\"xooxx\")) # false\n",
    "print(XO(\"ooxXm\")) # true\n",
    "print(XO(\"zpzpzpp\")) # true // when no ‘x’ and ‘o’ is present should return true\n",
    "print(XO(\"zzoo\")) # false"
   ]
  },
  {
   "cell_type": "code",
   "execution_count": null,
   "outputs": [],
   "source": [
    "import string\n",
    "\n",
    "def is_pangram(text):\n",
    "    all_letters = list(string.ascii_lowercase)\n",
    "    text = text.lower()\n",
    "\n",
    "    for letter in all_letters:\n",
    "        if letter not in text:\n",
    "            return False\n",
    "\n",
    "    return True\n",
    "\n",
    "print(is_pangram(\"The quick brown fox jumps over the lazy dog\"))\n",
    "print(is_pangram(\"The quick brown fox jumps over the lazy\"))"
   ],
   "metadata": {
    "collapsed": false
   }
  },
  {
   "cell_type": "code",
   "execution_count": 24,
   "outputs": [
    {
     "name": "stdout",
     "output_type": "stream",
     "text": [
      "List with dupes [15, 13, 16, 18, 19, 15, 10]\n",
      "List without dupes [10, 13, 15, 16, 18, 19]\n"
     ]
    }
   ],
   "source": [
    "# Remove the duplicates.\n",
    "list_with_dupes = [15,13,16,18,19,15,10]\n",
    "list_wo_dupes = list(set(list_with_dupes))\n",
    "print (f'List with dupes {list_with_dupes}')\n",
    "print (f'List without dupes {list_wo_dupes}')"
   ],
   "metadata": {
    "collapsed": false
   }
  },
  {
   "cell_type": "markdown",
   "source": [
    "## 1\n",
    "You are given an array (which will have a length of at least 3, but could be very\n",
    "large) containing integers. The array is either entirely comprised of odd integers or\n",
    "entirely comprised of even integers except for a single integer N.\n",
    "\n",
    "Write a method that takes the array as an argument and returns this “outlier” N."
   ],
   "metadata": {
    "collapsed": false
   }
  },
  {
   "cell_type": "code",
   "execution_count": 25,
   "outputs": [
    {
     "name": "stdout",
     "output_type": "stream",
     "text": [
      "11\n",
      "160\n",
      "3\n"
     ]
    }
   ],
   "source": [
    "def find_outlier(list_of_integers) :\n",
    "    # filter out the list to separate lists for odd and een numbers\n",
    "    even_numbers = list(filter(lambda i: i % 2 == 0, list_of_integers))\n",
    "    odd_numbers = list(filter(lambda i: i % 2 != 0, list_of_integers))\n",
    "\n",
    "    # if the list has only one element, then, by definition, it contains the outlier\n",
    "    if len(even_numbers) == 1:\n",
    "        return even_numbers[0]\n",
    "    else:\n",
    "        return odd_numbers[0]\n",
    "\n",
    "# let's test the result\n",
    "print(find_outlier([2, 4, 0, 100, 4, 11, 2602, 36])) # 11\n",
    "print(find_outlier([160, 3, 1719, 19, 11, 13, -21])) # 160\n",
    "print(find_outlier([2, 4, 6, 8, 10, 3])) # 3"
   ],
   "metadata": {
    "collapsed": false
   }
  },
  {
   "cell_type": "markdown",
   "source": [
    "ATM machines allow 4 or 6 digit PIN codes and PIN codes cannot contain anything but exactly 4 digits or exactly 6 digits.\n",
    "If the function is passed a valid PIN string, return true, else return false."
   ],
   "metadata": {
    "collapsed": false
   }
  },
  {
   "cell_type": "code",
   "execution_count": 26,
   "outputs": [
    {
     "name": "stdout",
     "output_type": "stream",
     "text": [
      "True\n",
      "False\n",
      "False\n"
     ]
    }
   ],
   "source": [
    "import re\n",
    "\n",
    "def validate_pin(pin):\n",
    "    return re.search(\"^\\d{4}$\", pin) is not None \\\n",
    "            or re.search(\"^\\d{6}$\", pin) is not None\n",
    "\n",
    "print(validate_pin(\"1234\")) # True\n",
    "print(validate_pin(\"12345\")) # False\n",
    "print(validate_pin(\"a234\")) # False"
   ],
   "metadata": {
    "collapsed": false
   }
  },
  {
   "cell_type": "markdown",
   "source": [
    "## 4\n",
    "In the city of Cartesia, all roads are laid out in a perfect grid. You arrived ten\n",
    "minutes earlier to an appointment, so you decided to take the opportunity to go for a\n",
    "short walk. The city provides its citizens with a Walk Generating App on their phones\n",
    "— every time you press the button it sends you an array of one-letter strings\n",
    "representing directions to walk (e.g. [‘n’, ‘s’, ‘w’, ‘e’]). You always walk only a single\n",
    "block in a direction and you know it takes you one minute to traverse one city block,\n",
    "so create a function that will return True if the walk the app tells you that you will\n",
    "take exactly ten minutes (you don’t want to be early or late!) and will, of course, return\n",
    "to your starting point. Return False otherwise.\n",
    "\n",
    "Note: you will always receive a valid array containing a random assortment of\n",
    "direction letters (‘n’, ‘s’, ‘e’, or ‘w’ only). It will never give you an empty array (that’s not\n",
    "a walk, that’s standing still!).\n",
    "\n",
    "![](http://www.guineapigcagesstore.com/Shared/Images/Product/Standard-Grid/standard-grid.jpg)\n",
    "`[\"s\", \"e\", \"w\", \"n\", \"n\", \"s\", \"e\", \"w\", \"n\", \"s\"]`"
   ],
   "metadata": {
    "collapsed": false
   }
  },
  {
   "cell_type": "code",
   "execution_count": 27,
   "outputs": [
    {
     "name": "stdout",
     "output_type": "stream",
     "text": [
      "False\n",
      "False\n",
      "False\n",
      "False\n",
      "True\n",
      "False\n"
     ]
    }
   ],
   "source": [
    "# ============ SOLUTION 1 ==============\n",
    "def is_optimal_route(navigation):\n",
    "    # not 10 steps? should take exactly 10 minutes\n",
    "    if len(navigation) != 10:\n",
    "        return False\n",
    "\n",
    "    # starting position\n",
    "    x = 0\n",
    "    y = 0\n",
    "\n",
    "    for direction in navigation:\n",
    "        # we go UP on the map\n",
    "        if direction == 'n':\n",
    "            x += 1\n",
    "        # we go DOWN on the map\n",
    "        if direction == 's':\n",
    "            x -= 1\n",
    "        # we go RIGHT on the map\n",
    "        if direction == 'w':\n",
    "            y += 1\n",
    "        # we go LEFT on the map\n",
    "        if direction == 'e':\n",
    "            y -= 1\n",
    "\n",
    "    return x == 0 and y == 0\n",
    "\n",
    "print(is_optimal_route([\"n\", \"e\", \"e\", \"n\", \"e\", \"w\", \"n\", \"n\", \"s\", \"e\"])) # False\n",
    "print(is_optimal_route([\"e\", \"n\", \"w\", \"e\", \"e\", \"s\", \"n\", \"s\", \"e\", \"n\", \"n\", \"s\", \"n\", \"e\", \"w\", \"n\", \"n\", \"n\", \"s\"])) # False\n",
    "print(is_optimal_route([\"s\", \"e\", \"s\", \"n\", \"s\", \"s\", \"s\", \"w\", \"e\", \"e\", \"e\", \"w\", \"s\"])) # False\n",
    "print(is_optimal_route([\"e\", \"w\", \"e\", \"n\", \"s\"])) # False\n",
    "print(is_optimal_route([\"s\", \"e\", \"w\", \"n\", \"n\", \"s\", \"e\", \"w\", \"n\", \"s\"])) # True\n",
    "print(is_optimal_route([\"s\", \"e\", \"w\", \"w\", \"n\", \"s\", \"e\", \"w\", \"n\", \"s\"])) # False"
   ],
   "metadata": {
    "collapsed": false
   }
  },
  {
   "cell_type": "code",
   "execution_count": 28,
   "outputs": [
    {
     "name": "stdout",
     "output_type": "stream",
     "text": [
      "False\n",
      "False\n",
      "False\n",
      "False\n",
      "True\n",
      "False\n"
     ]
    }
   ],
   "source": [
    "# ============ SOLUTION 2 ==============\n",
    "def is_optimal_route2(walk):\n",
    "    return len(walk) == 10 \\\n",
    "            and walk.count('n') == walk.count('s') \\\n",
    "            and walk.count('e') == walk.count('w')\n",
    "\n",
    "\n",
    "print(is_optimal_route([\"n\", \"e\", \"e\", \"n\", \"e\", \"w\", \"n\", \"n\", \"s\", \"e\"])) # False\n",
    "print(is_optimal_route([\"e\", \"n\", \"w\", \"e\", \"e\", \"s\", \"n\", \"s\", \"e\", \"n\", \"n\", \"s\", \"n\", \"e\", \"w\", \"n\", \"n\", \"n\", \"s\"])) # False\n",
    "print(is_optimal_route([\"s\", \"e\", \"s\", \"n\", \"s\", \"s\", \"s\", \"w\", \"e\", \"e\", \"e\", \"w\", \"s\"])) # False\n",
    "print(is_optimal_route([\"e\", \"w\", \"e\", \"n\", \"s\"])) # False\n",
    "print(is_optimal_route([\"s\", \"e\", \"w\", \"n\", \"n\", \"s\", \"e\", \"w\", \"n\", \"s\"])) # True\n",
    "print(is_optimal_route([\"s\", \"e\", \"w\", \"w\", \"n\", \"s\", \"e\", \"w\", \"n\", \"s\"])) # False"
   ],
   "metadata": {
    "collapsed": false
   }
  },
  {
   "cell_type": "markdown",
   "source": [
    "## 6\n",
    "Complete the function scramble(str1, str2) that returns true if a portion of str1 characters can be rearranged to match str2, otherwise returns false."
   ],
   "metadata": {
    "collapsed": false
   }
  },
  {
   "cell_type": "code",
   "execution_count": 29,
   "outputs": [
    {
     "name": "stdout",
     "output_type": "stream",
     "text": [
      "True\n",
      "True\n",
      "False\n"
     ]
    }
   ],
   "source": [
    "def scramble(str1, str2):\n",
    "    list1 = list(str1)\n",
    "    list2 = list(str2)\n",
    "    list1.sort()\n",
    "    list2.sort()\n",
    "    return all(x in list1 for x in list2)\n",
    "\n",
    "\n",
    "print(scramble('rkqodlw', 'world')) # True\n",
    "print(scramble('cedewaraaossoqqyt', 'codewars')) # True\n",
    "print(scramble('katas', 'steak')) # False"
   ],
   "metadata": {
    "collapsed": false
   }
  },
  {
   "cell_type": "markdown",
   "source": [
    "## 6\n",
    "The maximum sum subarray problem consists in finding the maximum sum\n",
    "of a contiguous subsequence in anarray or list\n",
    "of integers"
   ],
   "metadata": {
    "collapsed": false
   }
  },
  {
   "cell_type": "code",
   "execution_count": 30,
   "outputs": [
    {
     "name": "stdout",
     "output_type": "stream",
     "text": [
      "6\n"
     ]
    }
   ],
   "source": [
    "def maxSequence(num_list):\n",
    "    num_items = len(num_list)\n",
    "    max_sum = float('-inf')\n",
    "\n",
    "    for i in range(0, num_items):\n",
    "        for j in range(i, num_items):\n",
    "            max_sum = max(max_sum, sum(num_list[i:j]))\n",
    "\n",
    "    return max_sum\n",
    "\n",
    "\n",
    "# 4 + (-1) + 2 + 1 = 6\n",
    "print(maxSequence([-2, 1, -3, 4, -1, 2, 1, -5, 4]))"
   ],
   "metadata": {
    "collapsed": false
   }
  },
  {
   "cell_type": "markdown",
   "source": [
    "The new movie “SpaceXtreme” has just been released! There\n",
    "are a lot of people at the cinema box office standing in a huge\n",
    "line. Each of them has a single 100, 50 or 25 dollar bill. An\n",
    "“SpaceXtreme” ticket costs 25 dollars.\n",
    "\n",
    "Steve is currently working as a clerk. He wants to sell a ticket to\n",
    "every single person in this line.\n",
    "Can Steve sell a ticket to every person and give change if he\n",
    "initially has no money and sells the tickets strictly in the order\n",
    "people queue?\n",
    "\n",
    "Return YES, if Steve can sell a ticket to every person and give change\n",
    "with the bills he has at hand at that moment.\n",
    "Otherwise return NO."
   ],
   "metadata": {
    "collapsed": false
   }
  },
  {
   "cell_type": "code",
   "execution_count": 31,
   "outputs": [
    {
     "name": "stdout",
     "output_type": "stream",
     "text": [
      "True\n",
      "False\n",
      "False\n"
     ]
    }
   ],
   "source": [
    "# SOLUTION 1\n",
    "def tickets(customer_bills):\n",
    "    bills = {\n",
    "        25: 0,\n",
    "        50: 0,\n",
    "        100: 0\n",
    "    }\n",
    "    for c in customer_bills:\n",
    "        success = False\n",
    "\n",
    "        # customer gave 25 bill, no change needed\n",
    "        if c == 25:\n",
    "            success = True\n",
    "\n",
    "        # customer gave 50, do we have 25?\n",
    "        if c == 50 and bills[25] > 0:\n",
    "            bills[25] -= 1\n",
    "            success = True\n",
    "\n",
    "        # customer gave 100, do we have 50 + 25?\n",
    "        if c == 100 and bills[25] > 0 and bills[50] > 0:\n",
    "            bills[25] -= 1\n",
    "            bills[50] -= 1\n",
    "            success = True\n",
    "\n",
    "        # customer gave 100, we don't have 50 + 25, but do we have 25 + 25 + 25?\n",
    "        if c == 100 and bills[25] > 2 and bills[50] == 0:\n",
    "            bills[25] -= 3\n",
    "            success = True\n",
    "\n",
    "        if success:\n",
    "            bills[c] += 1\n",
    "        else:\n",
    "            return False\n",
    "\n",
    "    return True\n",
    "\n",
    "\n",
    "print(tickets([25, 25, 50])) # => YES\n",
    "print(tickets([25, 100])) # => NO. Steve will not have enough money to give change to 100 dollars\n",
    "print(tickets([25, 25, 50, 50, 100])) # NO"
   ],
   "metadata": {
    "collapsed": false
   }
  },
  {
   "cell_type": "code",
   "execution_count": 32,
   "outputs": [
    {
     "name": "stdout",
     "output_type": "stream",
     "text": [
      "True\n",
      "False\n",
      "False\n",
      "False\n"
     ]
    }
   ],
   "source": [
    "def tickets_universal(customer_bills, ticket_price):\n",
    "    bills = {}\n",
    "    for c in customer_bills:\n",
    "        if c == ticket_price:\n",
    "            bills[c] = bills.get(c, 0) + 1\n",
    "        elif c > ticket_price:\n",
    "            left_to_give = c - ticket_price\n",
    "            for amount in reversed(bills):\n",
    "                while bills[amount] > 0 and left_to_give >= amount:\n",
    "                    bills[amount] -= 1\n",
    "                    left_to_give -= amount\n",
    "            if left_to_give == 0:\n",
    "                bills[c] = bills.get(c, 0) + 1\n",
    "            else:\n",
    "                return False\n",
    "        else:\n",
    "            raise Exception(\"Bill to small, not enough money\")\n",
    "    return True\n",
    "\n",
    "\n",
    "print(tickets_universal([25, 25, 50], 25)) # => YES\n",
    "print(tickets_universal([25, 100], 25)) # => NO. Steve will not have enough money to give change to 100 dollars\n",
    "print(tickets_universal([25, 25, 50, 50, 100], 25)) # NO\n",
    "print(tickets_universal([25, 25, 25, 25, 25, 25, 50, 50, 100, 500], 25)) # NO"
   ],
   "metadata": {
    "collapsed": false
   }
  },
  {
   "cell_type": "code",
   "execution_count": 33,
   "outputs": [
    {
     "name": "stdout",
     "output_type": "stream",
     "text": [
      "False\n",
      "False\n",
      "True\n",
      "False\n",
      "False\n",
      "True\n"
     ]
    }
   ],
   "source": [
    "def valid_parentheses(string):\n",
    "    lvl = 0\n",
    "\n",
    "    for s in string:\n",
    "        if s == \"(\":\n",
    "            lvl += 1\n",
    "        elif s == \")\":\n",
    "            lvl -= 1\n",
    "        if lvl < 0:\n",
    "            return False\n",
    "\n",
    "    return lvl == 0\n",
    "\n",
    "print(valid_parentheses(\")(\"))             #  false\n",
    "print(valid_parentheses(\"hi())(\"))             #  false\n",
    "print(valid_parentheses(\"()\"))             #  true\n",
    "print(valid_parentheses(\")(()))\"))         # false\n",
    "print(valid_parentheses(\"(\"))              #  false\n",
    "print(valid_parentheses(\"(())((()())())\"))  #  true"
   ],
   "metadata": {
    "collapsed": false
   }
  },
  {
   "cell_type": "code",
   "execution_count": null,
   "outputs": [],
   "source": [
    "def calculate_optimal_fare(dis, time, taxi_v,taxi_pr, walk_v):\n",
    "    time=time/60\n",
    "    taxi_t=((walk_v* time)- dis)/(walk_v - taxi_v)\n",
    "    walk_t=time-taxi_t\n",
    "    if taxi_t < 0 or walk_t < 0:\n",
    "        print('Won\\'t make it')\n",
    "    else:\n",
    "        taxi_dis= taxi_v * taxi_t\n",
    "        price=taxi_dis * taxi_pr\n",
    "        print(\"You have to pay {} Euro.\".format(price))\n",
    "\n",
    "\n",
    "calculate_optimal_fare(10, 50, 30, 10, 6) # 62.50\n",
    "calculate_optimal_fare(100, 50, 30, 10, 6) # Won't make it"
   ],
   "metadata": {
    "collapsed": false
   }
  }
 ],
 "metadata": {
  "kernelspec": {
   "display_name": "Python 3",
   "language": "python",
   "name": "python3"
  },
  "language_info": {
   "codemirror_mode": {
    "name": "ipython",
    "version": 2
   },
   "file_extension": ".py",
   "mimetype": "text/x-python",
   "name": "python",
   "nbconvert_exporter": "python",
   "pygments_lexer": "ipython2",
   "version": "2.7.6"
  }
 },
 "nbformat": 4,
 "nbformat_minor": 0
}
