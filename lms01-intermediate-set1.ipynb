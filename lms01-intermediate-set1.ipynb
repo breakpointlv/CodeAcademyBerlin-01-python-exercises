{
 "cells": [
  {
   "cell_type": "markdown",
   "source": [
    "## 1\n",
    "You are given an array (which will have a length of at least 3, but could be very\n",
    "large) containing integers. The array is either entirely comprised of odd integers or\n",
    "entirely comprised of even integers except for a single integer N.\n",
    "\n",
    "Write a method that takes the array as an argument and returns this “outlier” N."
   ],
   "metadata": {
    "collapsed": false
   }
  },
  {
   "cell_type": "code",
   "execution_count": 206,
   "outputs": [],
   "source": [
    "test_cases = [\n",
    "    [2, 4, 0, 100, 4, 11, 2602, 36], # answer is 11\n",
    "    [160, 3, 1719, 19, 11, 13, -21], # answer is 160\n",
    "    [2, 4, 6, 8, 10, 3]              # answer is 3\n",
    "]\n",
    "\n",
    "def find_outlier(list_of_integers) :\n",
    "    # filter out the list to separate lists for odd and een numbers\n",
    "    even_numbers = list(filter(lambda i: i % 2 == 0, list_of_integers))\n",
    "    odd_numbers = list(filter(lambda i: i % 2 != 0, list_of_integers))\n",
    "\n",
    "    # if the list has only one element, then, by definition, it contains the outlier\n",
    "    if len(even_numbers) == 1:\n",
    "        return even_numbers[0]\n",
    "    else:\n",
    "        return odd_numbers[0]\n",
    "\n",
    "# let's test the result\n",
    "for test_case in test_cases:\n",
    "    find_outlier(test_case)"
   ],
   "metadata": {
    "collapsed": false
   }
  },
  {
   "cell_type": "markdown",
   "source": [
    "## 2\n",
    "Your goal in this task is to implement a difference function, which subtracts one\n",
    "list from another and returns the result.\n",
    "\n",
    "It should remove all values from list a, which are present in list b."
   ],
   "metadata": {
    "collapsed": false
   }
  },
  {
   "cell_type": "code",
   "execution_count": 207,
   "outputs": [
    {
     "name": "stdout",
     "output_type": "stream",
     "text": [
      "[2]\n",
      "[1]\n"
     ]
    }
   ],
   "source": [
    "def array_diff(a ,b):\n",
    "    return list(filter(lambda el: el not in b, a))\n",
    "\n",
    "print(array_diff([1,2],[1]))  # will return [2]\n",
    "print(array_diff([1,2,2], [2])) # will return [1]"
   ],
   "metadata": {
    "collapsed": false
   }
  },
  {
   "cell_type": "markdown",
   "source": [
    "## 3\n",
    "Given: an array containing hashes of names\n",
    "Return: a string formatted as a list of names separated by commas except for the last\n",
    "two names, which should be separated by an ampersand."
   ],
   "metadata": {
    "collapsed": false
   }
  },
  {
   "cell_type": "code",
   "execution_count": 208,
   "outputs": [
    {
     "name": "stdout",
     "output_type": "stream",
     "text": [
      "3\n",
      "Bart, Lisa & Maggie\n",
      "2\n",
      "Bart & Lisa\n",
      "1\n",
      "Bart\n",
      "0\n",
      "\n"
     ]
    }
   ],
   "source": [
    "def namelist(names):\n",
    "    name_count = len(names)\n",
    "    list_of_names = ''\n",
    "    current_name_number = 1\n",
    "\n",
    "    print(name_count)\n",
    "\n",
    "    for name in names:\n",
    "        list_of_names += name['name']\n",
    "        if current_name_number < name_count - 1:\n",
    "           list_of_names += ', ' # not the last 2 names, add ','\n",
    "        elif current_name_number == name_count - 1:\n",
    "            list_of_names += ' & ' # 2nd from the end of the list, add '&'\n",
    "        # for the last name: add nothing\n",
    "\n",
    "        current_name_number = current_name_number + 1\n",
    "\n",
    "\n",
    "    return list_of_names\n",
    "\n",
    "print(namelist([ {'name': 'Bart'}, {'name': 'Lisa'}, {'name': 'Maggie'} ]))\n",
    "# returns 'Bart, Lisa & Maggie'\n",
    "\n",
    "print(namelist([ {'name': 'Bart'}, {'name': 'Lisa'} ]))\n",
    "# returns 'Bart & Lisa'\n",
    "\n",
    "print(namelist([ {'name': 'Bart'} ]))\n",
    "# returns 'Bart'\n",
    "\n",
    "print(namelist([]))\n",
    "# returns ”"
   ],
   "metadata": {
    "collapsed": false
   }
  },
  {
   "cell_type": "markdown",
   "source": [
    "## 4\n",
    "In this task, create a function that takes a list of non-negative integers and strings\n",
    "and returns a new list with the strings filtered out."
   ],
   "metadata": {
    "collapsed": false
   }
  },
  {
   "cell_type": "code",
   "execution_count": 209,
   "outputs": [
    {
     "name": "stdout",
     "output_type": "stream",
     "text": [
      "[1, 2]\n",
      "[1, 0, 15]\n",
      "[1, 2, 23]\n"
     ]
    }
   ],
   "source": [
    "def filter_list(l):\n",
    "    return list(filter(lambda el: isinstance(el, int), l))\n",
    "\n",
    "print(filter_list([1,2,'a','b'])) # [1,2]\n",
    "print(filter_list([1,'a','b',0,15])) # [1,0,15]\n",
    "print(filter_list([1,2,'aasf','1','123' ,23])) # [1,2,123]"
   ],
   "metadata": {
    "collapsed": false
   }
  },
  {
   "cell_type": "markdown",
   "source": [
    "## 5\n",
    "Given an array, find the int that appears an odd number of times.\n",
    "There will always be only one integer that appears an odd number of times."
   ],
   "metadata": {
    "collapsed": false
   }
  },
  {
   "cell_type": "code",
   "execution_count": 210,
   "outputs": [
    {
     "name": "stdout",
     "output_type": "stream",
     "text": [
      "5\n"
     ]
    }
   ],
   "source": [
    "def find_num_repeating_odd_numer_of_times(list_of_ints):\n",
    "    #distionary to store occurency count for each number\n",
    "    nums_of_occurencies = {}\n",
    "    # the last number that had an odd number of occurencies\n",
    "    odd_num_of_occurencies = None\n",
    "\n",
    "    # for every number in the list\n",
    "    for num in list_of_ints:\n",
    "        if num in nums_of_occurencies:\n",
    "            # we already had this number, add 1 to the number of occurencies\n",
    "            nums_of_occurencies[num] += 1\n",
    "        else:\n",
    "            # if not, this will be the first\n",
    "            nums_of_occurencies[num] = 1\n",
    "        # this number has an odd number of occurencies? Store it, the last one will be our result\n",
    "        if nums_of_occurencies[num] % 2 != 0:\n",
    "            odd_num_of_occurencies = num\n",
    "\n",
    "    # print(nums_of_occurencies)\n",
    "    return odd_num_of_occurencies\n",
    "\n",
    "print(find_num_repeating_odd_numer_of_times([20,1,-1,2,-2,3,3,5,5,1,2,4,20,4,-1,-2,5]))"
   ],
   "metadata": {
    "collapsed": false
   }
  },
  {
   "cell_type": "markdown",
   "source": [
    "## 6\n",
    "Check to see if a string has the same amount of ’x’s and ’o’s. The method must\n",
    "return a boolean and be case insensitive. The string can contain any char."
   ],
   "metadata": {
    "collapsed": false
   }
  },
  {
   "cell_type": "code",
   "execution_count": 211,
   "outputs": [
    {
     "name": "stdout",
     "output_type": "stream",
     "text": [
      "True\n",
      "False\n",
      "False\n",
      "True\n",
      "False\n"
     ]
    }
   ],
   "source": [
    "def XO(str):\n",
    "    return str.count('o') == str.count('x')\n",
    "\n",
    "print(XO(\"ooxx\")) # true\n",
    "print(XO(\"xooxx\")) # false\n",
    "print(XO(\"ooxXm\")) # true\n",
    "print(XO(\"zpzpzpp\")) # true // when no ‘x’ and ‘o’ is present should return true\n",
    "print(XO(\"zzoo\")) # false"
   ],
   "metadata": {
    "collapsed": false
   }
  },
  {
   "cell_type": "markdown",
   "source": [
    "## 8\n",
    "ATM machines allow 4 or 6 digit PIN codes\n",
    "and PIN codes cannot contain anything but\n",
    "exactly 4 digits or exactly 6 digits.\n",
    "\n",
    "If the function is passed a valid PIN string, return\n",
    "true, else return false."
   ],
   "metadata": {
    "collapsed": false
   }
  },
  {
   "cell_type": "code",
   "execution_count": 212,
   "outputs": [
    {
     "name": "stdout",
     "output_type": "stream",
     "text": [
      "True\n",
      "False\n",
      "False\n"
     ]
    }
   ],
   "source": [
    "import re\n",
    "\n",
    "def validate_pin(pin):\n",
    "    return re.search(\"^\\d{4}$\", pin) is not None \\\n",
    "            or re.search(\"^\\d{6}$\", pin) is not None\n",
    "\n",
    "print(validate_pin(\"1234\")) # True\n",
    "print(validate_pin(\"12345\")) # False\n",
    "print(validate_pin(\"a234\")) # False"
   ],
   "metadata": {
    "collapsed": false
   }
  },
  {
   "cell_type": "markdown",
   "source": [
    "## 8\n",
    "Simple, given a string of words, return the length of the shortest word(s).\n",
    "String will never be empty and you do not need to account for different data types."
   ],
   "metadata": {
    "collapsed": false
   }
  },
  {
   "cell_type": "code",
   "execution_count": 213,
   "outputs": [
    {
     "name": "stdout",
     "output_type": "stream",
     "text": [
      "2\n",
      "2\n",
      "5\n"
     ]
    }
   ],
   "source": [
    "def len_of_shortest_word(string_of_words):\n",
    "    # split string into a list of words\n",
    "    word_list = string_of_words.split()\n",
    "\n",
    "    # shortest word length will be stored here\n",
    "    shortest_len = None\n",
    "\n",
    "    # for every word\n",
    "    for word in word_list:\n",
    "        # what is the length of the current word\n",
    "        current_word_length = len(word)\n",
    "\n",
    "        if shortest_len is None:\n",
    "            # no shortest length yet? then it's the current one\n",
    "            shortest_len = current_word_length\n",
    "        elif current_word_length < shortest_len:\n",
    "            shortest_len = current_word_length\n",
    "\n",
    "        # there are no shorter length than 1\n",
    "        # so if we found a word with length 1, this is our result\n",
    "        if shortest_len == 1:\n",
    "            return shortest_len\n",
    "\n",
    "    return shortest_len\n",
    "\n",
    "print(len_of_shortest_word(\"Cobalt kangaroos are the best by far\"))\n",
    "print(len_of_shortest_word(\"London is the capital of Great Britain\"))\n",
    "print(len_of_shortest_word(\"Hello there, General Kenobi\"))"
   ],
   "metadata": {
    "collapsed": false
   }
  },
  {
   "cell_type": "markdown",
   "source": [
    "# 9\n",
    "Write a method that takes an array of consecutive (increasing) letters as input and\n",
    "that returns the missing letter in the array."
   ],
   "metadata": {
    "collapsed": false
   }
  },
  {
   "cell_type": "code",
   "execution_count": 214,
   "outputs": [
    {
     "name": "stdout",
     "output_type": "stream",
     "text": [
      "e\n",
      "P\n"
     ]
    }
   ],
   "source": [
    "import string\n",
    "\n",
    "def find_missing_letter(letters):\n",
    "    # list of all letters in alphabetic order\n",
    "    # ['a', 'b', 'c', 'd', 'e', 'f', 'g', 'h', 'i', 'j', 'k', 'l', 'm', 'n', 'o', 'p', 'q', 'r', 's', 't', 'u', 'v', 'w', 'x', 'y', 'z', 'A', 'B', 'C', 'D', 'E', 'F', 'G', 'H', 'I', 'J', 'K', 'L', 'M', 'N', 'O', 'P', 'Q', 'R', 'S', 'T', 'U', 'V', 'W', 'X', 'Y', 'Z']\n",
    "    all_letters = list(string.ascii_lowercase) + list(string.ascii_uppercase)\n",
    "\n",
    "    # where does the first letter of our input is in the alphabet?\n",
    "    pos_in_all_letters = all_letters.index(letters[0])\n",
    "    pos_in_given_list = 0\n",
    "\n",
    "    # repeat indefinetly\n",
    "    while True:\n",
    "        # if letters are different, this is our result\n",
    "        if letters[pos_in_given_list] != all_letters[pos_in_all_letters]:\n",
    "            return all_letters[pos_in_all_letters]\n",
    "        # if not,move on to the next letter\n",
    "        pos_in_all_letters += 1\n",
    "        pos_in_given_list += 1\n",
    "\n",
    "print(find_missing_letter(['a','b','c','d','f']))\n",
    "print(find_missing_letter(['O','Q','R','S']))"
   ],
   "metadata": {
    "collapsed": false
   }
  },
  {
   "cell_type": "markdown",
   "source": [
    "## 10\n",
    "Make a program that filters a list of strings and returns a list with only your\n",
    "friends name in it. If a name has exactly 4 letters in it, you can be sure that it has to\n",
    "be a friend of yours! Otherwise, you can be sure he /she is not."
   ],
   "metadata": {
    "collapsed": false
   }
  },
  {
   "cell_type": "code",
   "execution_count": 215,
   "outputs": [
    {
     "name": "stdout",
     "output_type": "stream",
     "text": [
      "['Ryan', 'Yous']\n"
     ]
    }
   ],
   "source": [
    "def get_friend_list(name_list):\n",
    "    return list(filter(lambda name: len(name) == 4, name_list))\n",
    "\n",
    "print(get_friend_list(['Ryan', 'Kieran', 'Jason', 'Yous']))"
   ],
   "metadata": {
    "collapsed": false
   }
  }
 ],
 "metadata": {
  "kernelspec": {
   "display_name": "Python 3",
   "language": "python",
   "name": "python3"
  },
  "language_info": {
   "codemirror_mode": {
    "name": "ipython",
    "version": 2
   },
   "file_extension": ".py",
   "mimetype": "text/x-python",
   "name": "python",
   "nbconvert_exporter": "python",
   "pygments_lexer": "ipython2",
   "version": "2.7.6"
  }
 },
 "nbformat": 4,
 "nbformat_minor": 0
}
