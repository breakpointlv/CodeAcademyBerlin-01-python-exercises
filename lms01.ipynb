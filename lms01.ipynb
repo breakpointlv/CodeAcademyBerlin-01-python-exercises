{
 "cells": [
  {
   "cell_type": "markdown",
   "source": [
    "# Variable excercises"
   ],
   "metadata": {
    "collapsed": false
   }
  },
  {
   "cell_type": "code",
   "execution_count": 383,
   "outputs": [
    {
     "name": "stdout",
     "output_type": "stream",
     "text": [
      "Konstantin\n"
     ]
    }
   ],
   "source": [
    "name = \"Konstantin\"\n",
    "print(name)"
   ],
   "metadata": {
    "collapsed": false
   }
  },
  {
   "cell_type": "code",
   "execution_count": 384,
   "outputs": [
    {
     "name": "stdout",
     "output_type": "stream",
     "text": [
      "18\n"
     ]
    }
   ],
   "source": [
    "age = 18\n",
    "print(age)"
   ],
   "metadata": {
    "collapsed": false
   }
  },
  {
   "cell_type": "code",
   "execution_count": 385,
   "outputs": [
    {
     "name": "stdout",
     "output_type": "stream",
     "text": [
      "-14\n"
     ]
    }
   ],
   "source": [
    "julia_age = 32\n",
    "age_diff = age - julia_age\n",
    "print(age_diff)"
   ],
   "metadata": {
    "collapsed": false
   }
  },
  {
   "cell_type": "markdown",
   "source": [
    "# Conditions"
   ],
   "metadata": {
    "collapsed": false
   }
  },
  {
   "cell_type": "code",
   "execution_count": 386,
   "outputs": [
    {
     "name": "stdout",
     "output_type": "stream",
     "text": [
      "You are just a baby\n"
     ]
    }
   ],
   "source": [
    "if age > 21:\n",
    "    print(\"you are older than 21\")\n",
    "else:\n",
    "    print(\"You are just a baby\")"
   ],
   "metadata": {
    "collapsed": false
   }
  },
  {
   "cell_type": "markdown",
   "source": [
    "# List and loops"
   ],
   "metadata": {
    "collapsed": false
   }
  },
  {
   "cell_type": "code",
   "execution_count": 387,
   "outputs": [
    {
     "name": "stdout",
     "output_type": "stream",
     "text": [
      "First element: Antonia Fuhr\n",
      "Last element: Stefan Dingler\n",
      "Antonia Fuhr\n",
      "Arjun Pavakkulath\n",
      "Fariha Ghiasi\n",
      "Jost Lepere\n",
      "Killian Meehan\n",
      "Konstantin Buravcov\n",
      "Lucas Dupias\n",
      "Mohammed Al-Mashraee\n",
      "Raúl H.\n",
      "Rene van der Hout\n",
      "Sarah Bianco\n",
      "Stefan Dingler\n"
     ]
    }
   ],
   "source": [
    "cobaltKengaroos = [\n",
    "    'Raúl H.',\n",
    "    'Stefan Dingler',\n",
    "    'Antonia Fuhr',\n",
    "    'Mohammed Al-Mashraee',\n",
    "    'Rene van der Hout',\n",
    "    'Fariha Ghiasi',\n",
    "    'Konstantin Buravcov',\n",
    "    'Sarah Bianco',\n",
    "    'Arjun Pavakkulath',\n",
    "    'Killian Meehan',\n",
    "    'Lucas Dupias',\n",
    "    'Jost Lepere'\n",
    "]\n",
    "cobaltKengaroos.sort()\n",
    "\n",
    "print(f\"First element: {cobaltKengaroos[0]}\")\n",
    "print(f\"Last element: {cobaltKengaroos[-1]}\")\n",
    "\n",
    "for kengarooName in cobaltKengaroos:\n",
    "    print(kengarooName)"
   ],
   "metadata": {
    "collapsed": false
   }
  },
  {
   "cell_type": "code",
   "execution_count": 388,
   "outputs": [
    {
     "name": "stdout",
     "output_type": "stream",
     "text": [
      "--- all ages ---\n",
      "21\n",
      "43\n",
      "37\n",
      "25\n",
      "23\n",
      "18\n",
      "34\n",
      "55\n",
      "22\n",
      "48\n",
      "52\n",
      "21\n",
      "--- even ages ---\n",
      "18\n",
      "34\n",
      "22\n",
      "48\n",
      "52\n"
     ]
    }
   ],
   "source": [
    "kengarooAges = [\n",
    "    21,\n",
    "    43,\n",
    "    37,\n",
    "    25,\n",
    "    23,\n",
    "    18,\n",
    "    34,\n",
    "    55,\n",
    "    22,\n",
    "    48,\n",
    "    52,\n",
    "    21\n",
    "]\n",
    "print(\"--- all ages ---\")\n",
    "for kengarooAge in kengarooAges:\n",
    "    print(kengarooAge)\n",
    "\n",
    "print(\"--- even ages ---\")\n",
    "for kengarooAge in kengarooAges:\n",
    "    if kengarooAge % 2 == 0:\n",
    "        print(kengarooAge)\n"
   ],
   "metadata": {
    "collapsed": false
   }
  },
  {
   "cell_type": "code",
   "execution_count": 389,
   "outputs": [
    {
     "name": "stdout",
     "output_type": "stream",
     "text": [
      "39\n",
      "46\n",
      "72\n",
      "71\n",
      "27\n",
      "70\n",
      "61\n",
      "30\n",
      "51\n",
      "31\n",
      "Lowest number: 27\n",
      "Highest number: 72\n"
     ]
    }
   ],
   "source": [
    "import random\n",
    "listOfNumbers = random.sample(range(1, 100), 10)\n",
    "\n",
    "for n in listOfNumbers:\n",
    "    print(n)\n",
    "\n",
    "listOfNumbers.sort()\n",
    "\n",
    "print(f\"Lowest number: {listOfNumbers[0]}\")\n",
    "print(f\"Highest number: {listOfNumbers[-1]}\")"
   ],
   "metadata": {
    "collapsed": false
   }
  },
  {
   "cell_type": "code",
   "execution_count": 390,
   "outputs": [
    {
     "name": "stdout",
     "output_type": "stream",
     "text": [
      "24\n",
      "28\n",
      "18\n",
      "13\n",
      "16\n",
      "17\n",
      "29\n",
      "27\n",
      "44\n",
      "15\n"
     ]
    }
   ],
   "source": [
    "import datetime\n",
    "today = datetime.date.today()\n",
    "\n",
    "customerBirthDates = [1999, 1995, 2005, 2010, 2007, 2006, 1994, 1996, 1979, 2008]\n",
    "\n",
    "for by in customerBirthDates:\n",
    "    print(today.year - by)"
   ],
   "metadata": {
    "collapsed": false
   }
  },
  {
   "cell_type": "code",
   "execution_count": 391,
   "outputs": [
    {
     "name": "stdout",
     "output_type": "stream",
     "text": [
      "Bob is 24 years old\n",
      "Jack is 28 years old\n",
      "Lisa is 18 years old\n",
      "Maria is 13 years old\n",
      "Ben is 16 years old\n",
      "Emma is 17 years old\n",
      "Oscar is 29 years old\n",
      "Amy is 27 years old\n",
      "Paul is 44 years old\n",
      "Etta is 15 years old\n"
     ]
    }
   ],
   "source": [
    "# Use a loop to iterate over the list and print the name and age of each customer.\n",
    "customer_list = [\n",
    "                    {\"name\": \"Bob\", \"age\": 1999},\n",
    "                    {\"name\": \"Jack\", \"age\": 1995},\n",
    "                    {\"name\": \"Lisa\", \"age\": 2005},\n",
    "                    {\"name\": \"Maria\", \"age\": 2010},\n",
    "                    {\"name\": \"Ben\", \"age\": 2007},\n",
    "                    {\"name\": \"Emma\", \"age\": 2006},\n",
    "                    {\"name\": \"Oscar\", \"age\": 1994},\n",
    "                    {\"name\": \"Amy\", \"age\": 1996},\n",
    "                    {\"name\": \"Paul\", \"age\": 1979},\n",
    "                    {\"name\": \"Etta\", \"age\": 2008}\n",
    "                ]\n",
    "for customer in customer_list:\n",
    "    print(f\"{customer['name']} is {today.year - customer['age']} years old\")"
   ],
   "metadata": {
    "collapsed": false
   }
  },
  {
   "cell_type": "code",
   "execution_count": 392,
   "outputs": [
    {
     "name": "stdout",
     "output_type": "stream",
     "text": [
      "[11, 12, 13, 14, 20, 23, 24, 25]\n"
     ]
    }
   ],
   "source": [
    "# with a sorted list\n",
    "ages = [20, 24, 14, 9, 12, 13, 25, 23, 40, 11]\n",
    "ages.sort()\n",
    "ages.remove(ages[0])\n",
    "ages.remove(ages[-1])\n",
    "print(ages)"
   ],
   "metadata": {
    "collapsed": false
   }
  },
  {
   "cell_type": "code",
   "execution_count": 393,
   "outputs": [
    {
     "name": "stdout",
     "output_type": "stream",
     "text": [
      "[20, 24, 14, 12, 13, 25, 23, 11]\n"
     ]
    }
   ],
   "source": [
    "# list order remains the same\n",
    "ages = [20, 24, 14, 9, 12, 13, 25, 23, 40, 11]\n",
    "\n",
    "# what are the indexes of min and max ages in the list?\n",
    "max_age = ages[0]\n",
    "min_age = ages[0]\n",
    "\n",
    "for age in ages:\n",
    "    # is current max age greater than the max age we encountered before?\n",
    "    if age > max_age:\n",
    "        max_age = age\n",
    "    # is current min age less than the min age we encountered before?\n",
    "    if age < min_age:\n",
    "        min_age = age\n",
    "\n",
    "\n",
    "ages.remove(max_age)\n",
    "ages.remove(min_age)\n",
    "print(ages)"
   ],
   "metadata": {
    "collapsed": false
   }
  },
  {
   "cell_type": "code",
   "execution_count": 394,
   "outputs": [
    {
     "name": "stdout",
     "output_type": "stream",
     "text": [
      "[15, 13, 16, 18, 19, 10]\n"
     ]
    }
   ],
   "source": [
    "# create another list with the common ages.\n",
    "berlin = [15, 13, 16, 18, 19, 10, 12 ]\n",
    "munich = [7, 13, 15, 20, 19, 18, 10, 16]\n",
    "\n",
    "commonAges = []\n",
    "for berlinAge in berlin:\n",
    "    if berlinAge in munich:\n",
    "        commonAges.append(berlinAge)\n",
    "\n",
    "print(commonAges)"
   ],
   "metadata": {
    "collapsed": false
   }
  },
  {
   "cell_type": "code",
   "execution_count": 395,
   "outputs": [
    {
     "name": "stdout",
     "output_type": "stream",
     "text": [
      "List with dupes [15, 13, 16, 18, 19, 15, 10]\n",
      "List with dupes [10, 13, 15, 16, 18, 19]\n"
     ]
    }
   ],
   "source": [
    "# Remove the duplicates.\n",
    "list_with_dupes = [15,13,16,18,19,15,10]\n",
    "set_of_numbers = set(list_with_dupes)\n",
    "list_without_dupes = [*set_of_numbers] # expand a set into a new list\n",
    "print (f'List with dupes {list_with_dupes}')\n",
    "print (f'List with dupes {list_without_dupes}')\n"
   ],
   "metadata": {
    "collapsed": false
   }
  },
  {
   "cell_type": "code",
   "execution_count": 396,
   "outputs": [
    {
     "name": "stdout",
     "output_type": "stream",
     "text": [
      "Welcome Jost, have a nice day!\n",
      "Welcome Evelyn, have a nice day!\n"
     ]
    }
   ],
   "source": [
    "# write a function that says \"welcome\"\n",
    "def welcome(name):\n",
    "    print(f'Welcome {name}, have a nice day!')\n",
    "\n",
    "welcome('Jost')\n",
    "welcome('Evelyn')"
   ],
   "metadata": {
    "collapsed": false
   }
  },
  {
   "cell_type": "code",
   "execution_count": 397,
   "outputs": [
    {
     "name": "stdout",
     "output_type": "stream",
     "text": [
      "34\n",
      "34\n"
     ]
    }
   ],
   "source": [
    "# Write a function that takes a string as input and calculates the length.\n",
    "someString = 'Cobalt kangaroo is the best animal'\n",
    "def get_length(str):\n",
    "    return len(str)\n",
    "\n",
    "def get_length2(str):\n",
    "    str_len = 0\n",
    "    for s in str:\n",
    "        str_len += 1\n",
    "    return str_len\n",
    "\n",
    "print(get_length(someString))\n",
    "print(get_length2(someString))"
   ],
   "metadata": {
    "collapsed": false
   }
  },
  {
   "cell_type": "code",
   "execution_count": 398,
   "outputs": [
    {
     "name": "stdout",
     "output_type": "stream",
     "text": [
      "Is 2 even?\n",
      "Yes\n",
      "Is 3 even?\n",
      "No\n",
      "Is 255 even?\n",
      "No\n"
     ]
    }
   ],
   "source": [
    "# Write a function which checks whether a number is even.\n",
    "def check_even(num):\n",
    "    if num % 2 == 0:\n",
    "        print('Yes')\n",
    "    else:\n",
    "        print('No')\n",
    "\n",
    "print('Is 2 even?')\n",
    "check_even(2)\n",
    "print('Is 3 even?')\n",
    "check_even(3)\n",
    "print('Is 255 even?')\n",
    "check_even(255)"
   ],
   "metadata": {
    "collapsed": false
   }
  },
  {
   "cell_type": "code",
   "execution_count": 399,
   "outputs": [
    {
     "name": "stdout",
     "output_type": "stream",
     "text": [
      "Sally is 1 year old\n",
      "Bob is 24 years old\n",
      "Jack is 28 years old\n",
      "Lisa is 18 years old\n",
      "Maria is 13 years old\n",
      "Ben is 16 years old\n",
      "Emma is 17 years old\n",
      "Oscar is 29 years old\n",
      "Amy is 27 years old\n",
      "Paul is 44 years old\n",
      "Etta is 15 years old\n"
     ]
    }
   ],
   "source": [
    "# Rewrite exercises 11 in a function.\n",
    "# Use a loop to iterate over the list and print the name and age of each customer.\n",
    "import datetime\n",
    "\n",
    "def get_age(birth_year):\n",
    "    today = datetime.date.today()\n",
    "    return today.year - birth_year\n",
    "\n",
    "# Calculate correct plural form for 'years', e.g. 1 year or 2 years\n",
    "def plural_years(num):\n",
    "    if num == 1:\n",
    "        return 'year'\n",
    "    else:\n",
    "        return 'years'\n",
    "\n",
    "def print_customers(customer_list):\n",
    "    for customer in customer_list:\n",
    "        customer_age = get_age(customer['age'])\n",
    "        print(f\"{customer['name']} is {customer_age} {plural_years(customer_age)} old\")\n",
    "\n",
    "customer_list = [\n",
    "            {\"name\": \"Sally\", \"age\": 2022},\n",
    "            {\"name\": \"Bob\", \"age\": 1999},\n",
    "            {\"name\": \"Jack\", \"age\": 1995},\n",
    "            {\"name\": \"Lisa\", \"age\": 2005},\n",
    "            {\"name\": \"Maria\", \"age\": 2010},\n",
    "            {\"name\": \"Ben\", \"age\": 2007},\n",
    "            {\"name\": \"Emma\", \"age\": 2006},\n",
    "            {\"name\": \"Oscar\", \"age\": 1994},\n",
    "            {\"name\": \"Amy\", \"age\": 1996},\n",
    "            {\"name\": \"Paul\", \"age\": 1979},\n",
    "            {\"name\": \"Etta\", \"age\": 2008}\n",
    "        ]\n",
    "\n",
    "print_customers(customer_list)"
   ],
   "metadata": {
    "collapsed": false
   }
  },
  {
   "cell_type": "code",
   "execution_count": 400,
   "outputs": [
    {
     "name": "stdout",
     "output_type": "stream",
     "text": [
      "[20, 24, 14, 12, 13, 25, 23, 11]\n"
     ]
    }
   ],
   "source": [
    "# Rewrite exercises 12 in a function.\n",
    "# Given a list of ages, remove the youngest and the oldest person.\n",
    "def remove_youngest_and_oldest(age_list):\n",
    "    # what are the indexes of min and max ages in the list?\n",
    "    max_age = ages[0]\n",
    "    min_age = ages[0]\n",
    "\n",
    "    for age in age_list:\n",
    "        # is current max age greater than the max age we encountered before?\n",
    "        if age > max_age:\n",
    "            max_age = age\n",
    "        # is current min age less than the min age we encountered before?\n",
    "        if age < min_age:\n",
    "            min_age = age\n",
    "\n",
    "    age_list.remove(max_age)\n",
    "    age_list.remove(min_age)\n",
    "    return age_list\n",
    "\n",
    "ages = [20, 24, 14, 9, 12, 13, 25, 23, 40, 11]\n",
    "print(remove_youngest_and_oldest(ages))"
   ],
   "metadata": {
    "collapsed": false
   }
  },
  {
   "cell_type": "code",
   "execution_count": 401,
   "outputs": [
    {
     "name": "stdout",
     "output_type": "stream",
     "text": [
      "[15, 13, 16, 18, 19, 10]\n"
     ]
    }
   ],
   "source": [
    "# Rewrite exercises 13 in a function.\n",
    "# create another list with the common ages.\n",
    "def print_common_elements(list1, list2):\n",
    "    common_elements = []\n",
    "    for l1 in list1:\n",
    "        if l1 in list2:\n",
    "            common_elements.append(l1)\n",
    "    print(common_elements)\n",
    "\n",
    "berlin = [15, 13, 16, 18, 19, 10, 12 ]\n",
    "munich = [7, 13, 15, 20, 19, 18, 10, 16]\n",
    "\n",
    "print_common_elements(berlin, munich)"
   ],
   "metadata": {
    "collapsed": false
   }
  },
  {
   "cell_type": "code",
   "execution_count": 402,
   "outputs": [
    {
     "name": "stdout",
     "output_type": "stream",
     "text": [
      "List with dupes [15, 13, 16, 18, 19, 15, 10]\n",
      "List with dupes [10, 13, 15, 16, 18, 19]\n"
     ]
    }
   ],
   "source": [
    "# Remove the duplicates.\n",
    "def remove_dupes(list_with_dupes):\n",
    "    set_of_numbers = set(list_with_dupes)\n",
    "    return [*set_of_numbers] # expand a set into a new list\n",
    "\n",
    "list_with_dupes = [15,13,16,18,19,15,10]\n",
    "list_without_dupes = remove_dupes(list_with_dupes)\n",
    "\n",
    "print (f'List with dupes {list_with_dupes}')\n",
    "print (f'List with dupes {list_without_dupes}')"
   ],
   "metadata": {
    "collapsed": false
   }
  }
 ],
 "metadata": {
  "kernelspec": {
   "display_name": "Python 3",
   "language": "python",
   "name": "python3"
  },
  "language_info": {
   "codemirror_mode": {
    "name": "ipython",
    "version": 2
   },
   "file_extension": ".py",
   "mimetype": "text/x-python",
   "name": "python",
   "nbconvert_exporter": "python",
   "pygments_lexer": "ipython2",
   "version": "2.7.6"
  }
 },
 "nbformat": 4,
 "nbformat_minor": 0
}
