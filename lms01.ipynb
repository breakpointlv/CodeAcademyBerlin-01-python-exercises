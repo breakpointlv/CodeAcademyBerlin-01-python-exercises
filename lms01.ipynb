{
 "cells": [
  {
   "cell_type": "markdown",
   "source": [
    "# Variable excercises"
   ],
   "metadata": {
    "collapsed": false
   }
  },
  {
   "cell_type": "code",
   "execution_count": 81,
   "outputs": [
    {
     "name": "stdout",
     "output_type": "stream",
     "text": [
      "Konstantin\n"
     ]
    }
   ],
   "source": [
    "name = \"Konstantin\"\n",
    "print(name)"
   ],
   "metadata": {
    "collapsed": false
   }
  },
  {
   "cell_type": "code",
   "execution_count": 82,
   "outputs": [
    {
     "name": "stdout",
     "output_type": "stream",
     "text": [
      "18\n"
     ]
    }
   ],
   "source": [
    "age = 18\n",
    "print(age)"
   ],
   "metadata": {
    "collapsed": false
   }
  },
  {
   "cell_type": "code",
   "execution_count": 83,
   "outputs": [
    {
     "name": "stdout",
     "output_type": "stream",
     "text": [
      "-14\n"
     ]
    }
   ],
   "source": [
    "julia_age = 32\n",
    "age_diff = age - julia_age\n",
    "print(age_diff)"
   ],
   "metadata": {
    "collapsed": false
   }
  },
  {
   "cell_type": "markdown",
   "source": [
    "# Conditions"
   ],
   "metadata": {
    "collapsed": false
   }
  },
  {
   "cell_type": "code",
   "execution_count": 84,
   "outputs": [
    {
     "name": "stdout",
     "output_type": "stream",
     "text": [
      "You are just a baby\n"
     ]
    }
   ],
   "source": [
    "if age > 21:\n",
    "    print(\"you are older than 21\")\n",
    "else:\n",
    "    print(\"You are just a baby\")"
   ],
   "metadata": {
    "collapsed": false
   }
  },
  {
   "cell_type": "markdown",
   "source": [
    "# List and loops"
   ],
   "metadata": {
    "collapsed": false
   }
  },
  {
   "cell_type": "code",
   "execution_count": 85,
   "outputs": [
    {
     "name": "stdout",
     "output_type": "stream",
     "text": [
      "First element: Antonia Fuhr\n",
      "Last element: Stefan Dingler\n",
      "Antonia Fuhr\n",
      "Arjun Pavakkulath\n",
      "Fariha Ghiasi\n",
      "Jost Lepere\n",
      "Killian Meehan\n",
      "Konstantin Buravcov\n",
      "Lucas Dupias\n",
      "Mohammed Al-Mashraee\n",
      "Raúl H.\n",
      "Rene van der Hout\n",
      "Sarah Bianco\n",
      "Stefan Dingler\n"
     ]
    }
   ],
   "source": [
    "cobaltKengaroos = [\n",
    "    'Raúl H.',\n",
    "    'Stefan Dingler',\n",
    "    'Antonia Fuhr',\n",
    "    'Mohammed Al-Mashraee',\n",
    "    'Rene van der Hout',\n",
    "    'Fariha Ghiasi',\n",
    "    'Konstantin Buravcov',\n",
    "    'Sarah Bianco',\n",
    "    'Arjun Pavakkulath',\n",
    "    'Killian Meehan',\n",
    "    'Lucas Dupias',\n",
    "    'Jost Lepere'\n",
    "]\n",
    "cobaltKengaroos.sort()\n",
    "\n",
    "print(f\"First element: {cobaltKengaroos[0]}\")\n",
    "print(f\"Last element: {cobaltKengaroos[-1]}\")\n",
    "\n",
    "for kengarooName in cobaltKengaroos:\n",
    "    print(kengarooName)"
   ],
   "metadata": {
    "collapsed": false
   }
  },
  {
   "cell_type": "code",
   "execution_count": 86,
   "outputs": [
    {
     "name": "stdout",
     "output_type": "stream",
     "text": [
      "--- all ages ---\n",
      "21\n",
      "43\n",
      "37\n",
      "25\n",
      "23\n",
      "18\n",
      "34\n",
      "55\n",
      "22\n",
      "48\n",
      "52\n",
      "21\n",
      "--- even ages ---\n",
      "18\n",
      "34\n",
      "22\n",
      "48\n",
      "52\n"
     ]
    }
   ],
   "source": [
    "kengarooAges = [\n",
    "    21,\n",
    "    43,\n",
    "    37,\n",
    "    25,\n",
    "    23,\n",
    "    18,\n",
    "    34,\n",
    "    55,\n",
    "    22,\n",
    "    48,\n",
    "    52,\n",
    "    21\n",
    "]\n",
    "print(\"--- all ages ---\")\n",
    "for kengarooAge in kengarooAges:\n",
    "    print(kengarooAge)\n",
    "\n",
    "print(\"--- even ages ---\")\n",
    "for kengarooAge in kengarooAges:\n",
    "    if kengarooAge % 2 == 0:\n",
    "        print(kengarooAge)\n"
   ],
   "metadata": {
    "collapsed": false
   }
  },
  {
   "cell_type": "code",
   "execution_count": 87,
   "outputs": [
    {
     "name": "stdout",
     "output_type": "stream",
     "text": [
      "97\n",
      "15\n",
      "31\n",
      "8\n",
      "79\n",
      "98\n",
      "30\n",
      "5\n",
      "70\n",
      "13\n",
      "Lowest number: 5\n",
      "Highest number: 98\n"
     ]
    }
   ],
   "source": [
    "import random\n",
    "listOfNumbers = random.sample(range(1, 100), 10)\n",
    "\n",
    "for n in listOfNumbers:\n",
    "    print(n)\n",
    "\n",
    "listOfNumbers.sort()\n",
    "\n",
    "print(f\"Lowest number: {listOfNumbers[0]}\")\n",
    "print(f\"Highest number: {listOfNumbers[-1]}\")"
   ],
   "metadata": {
    "collapsed": false
   }
  },
  {
   "cell_type": "code",
   "execution_count": 88,
   "outputs": [
    {
     "name": "stdout",
     "output_type": "stream",
     "text": [
      "24\n",
      "28\n",
      "18\n",
      "13\n",
      "16\n",
      "17\n",
      "29\n",
      "27\n",
      "44\n",
      "15\n"
     ]
    }
   ],
   "source": [
    "import datetime\n",
    "today = datetime.date.today()\n",
    "\n",
    "customerBirthDates = [1999, 1995, 2005, 2010, 2007, 2006, 1994, 1996, 1979, 2008]\n",
    "\n",
    "for by in customerBirthDates:\n",
    "    print(today.year - by)"
   ],
   "metadata": {
    "collapsed": false
   }
  },
  {
   "cell_type": "code",
   "execution_count": 89,
   "outputs": [
    {
     "name": "stdout",
     "output_type": "stream",
     "text": [
      "Bob is 24 years old\n",
      "Jack is 28 years old\n",
      "Lisa is 18 years old\n",
      "Maria is 13 years old\n",
      "Ben is 16 years old\n",
      "Emma is 17 years old\n",
      "Oscar is 29 years old\n",
      "Amy is 27 years old\n",
      "Paul is 44 years old\n",
      "Etta is 15 years old\n"
     ]
    }
   ],
   "source": [
    "# Use a loop to iterate over the list and print the name and age of each customer.\n",
    "customer_list = [\n",
    "                    {\"name\": \"Bob\", \"age\": 1999},\n",
    "                    {\"name\": \"Jack\", \"age\": 1995},\n",
    "                    {\"name\": \"Lisa\", \"age\": 2005},\n",
    "                    {\"name\": \"Maria\", \"age\": 2010},\n",
    "                    {\"name\": \"Ben\", \"age\": 2007},\n",
    "                    {\"name\": \"Emma\", \"age\": 2006},\n",
    "                    {\"name\": \"Oscar\", \"age\": 1994},\n",
    "                    {\"name\": \"Amy\", \"age\": 1996},\n",
    "                    {\"name\": \"Paul\", \"age\": 1979},\n",
    "                    {\"name\": \"Etta\", \"age\": 2008}\n",
    "                ]\n",
    "for customer in customer_list:\n",
    "    print(f\"{customer['name']} is {today.year - customer['age']} years old\")"
   ],
   "metadata": {
    "collapsed": false
   }
  }
 ],
 "metadata": {
  "kernelspec": {
   "display_name": "Python 3",
   "language": "python",
   "name": "python3"
  },
  "language_info": {
   "codemirror_mode": {
    "name": "ipython",
    "version": 2
   },
   "file_extension": ".py",
   "mimetype": "text/x-python",
   "name": "python",
   "nbconvert_exporter": "python",
   "pygments_lexer": "ipython2",
   "version": "2.7.6"
  }
 },
 "nbformat": 4,
 "nbformat_minor": 0
}
