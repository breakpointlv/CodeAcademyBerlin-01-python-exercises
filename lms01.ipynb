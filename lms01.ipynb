{
 "cells": [
  {
   "cell_type": "markdown",
   "source": [
    "# Variable excercises"
   ],
   "metadata": {
    "collapsed": false
   }
  },
  {
   "cell_type": "code",
   "execution_count": 38,
   "outputs": [
    {
     "name": "stdout",
     "output_type": "stream",
     "text": [
      "Konstantin\n"
     ]
    }
   ],
   "source": [
    "name = \"Konstantin\"\n",
    "print(name)"
   ],
   "metadata": {
    "collapsed": false
   }
  },
  {
   "cell_type": "code",
   "execution_count": 39,
   "outputs": [
    {
     "name": "stdout",
     "output_type": "stream",
     "text": [
      "18\n"
     ]
    }
   ],
   "source": [
    "age = 18\n",
    "print(age)"
   ],
   "metadata": {
    "collapsed": false
   }
  },
  {
   "cell_type": "code",
   "execution_count": 40,
   "outputs": [
    {
     "name": "stdout",
     "output_type": "stream",
     "text": [
      "-14\n"
     ]
    }
   ],
   "source": [
    "julia_age = 32\n",
    "age_diff = age - julia_age\n",
    "print(age_diff)"
   ],
   "metadata": {
    "collapsed": false
   }
  },
  {
   "cell_type": "markdown",
   "source": [
    "# Conditions"
   ],
   "metadata": {
    "collapsed": false
   }
  },
  {
   "cell_type": "code",
   "execution_count": 41,
   "outputs": [
    {
     "name": "stdout",
     "output_type": "stream",
     "text": [
      "You are just a baby\n"
     ]
    }
   ],
   "source": [
    "if age > 21:\n",
    "    print(\"you are older than 21\")\n",
    "else:\n",
    "    print(\"You are just a baby\")"
   ],
   "metadata": {
    "collapsed": false
   }
  },
  {
   "cell_type": "markdown",
   "source": [
    "# List and loops"
   ],
   "metadata": {
    "collapsed": false
   }
  },
  {
   "cell_type": "code",
   "execution_count": 42,
   "outputs": [
    {
     "name": "stdout",
     "output_type": "stream",
     "text": [
      "First element: Antonia Fuhr\n",
      "Last element: Stefan Dingler\n",
      "Antonia Fuhr\n",
      "Arjun Pavakkulath\n",
      "Fariha Ghiasi\n",
      "Jost Lepere\n",
      "Killian Meehan\n",
      "Konstantin Buravcov\n",
      "Lucas Dupias\n",
      "Mohammed Al-Mashraee\n",
      "Raúl H.\n",
      "Rene van der Hout\n",
      "Sarah Bianco\n",
      "Stefan Dingler\n"
     ]
    }
   ],
   "source": [
    "cobaltKengaroos = [\n",
    "    'Raúl H.',\n",
    "    'Stefan Dingler',\n",
    "    'Antonia Fuhr',\n",
    "    'Mohammed Al-Mashraee',\n",
    "    'Rene van der Hout',\n",
    "    'Fariha Ghiasi',\n",
    "    'Konstantin Buravcov',\n",
    "    'Sarah Bianco',\n",
    "    'Arjun Pavakkulath',\n",
    "    'Killian Meehan',\n",
    "    'Lucas Dupias',\n",
    "    'Jost Lepere'\n",
    "]\n",
    "cobaltKengaroos.sort()\n",
    "\n",
    "print(f\"First element: {cobaltKengaroos[0]}\")\n",
    "print(f\"Last element: {cobaltKengaroos[-1]}\")\n",
    "\n",
    "for kengarooName in cobaltKengaroos:\n",
    "    print(kengarooName)"
   ],
   "metadata": {
    "collapsed": false
   }
  },
  {
   "cell_type": "code",
   "execution_count": 44,
   "outputs": [
    {
     "name": "stdout",
     "output_type": "stream",
     "text": [
      "--- all ages ---\n",
      "21\n",
      "43\n",
      "37\n",
      "25\n",
      "23\n",
      "18\n",
      "34\n",
      "55\n",
      "22\n",
      "48\n",
      "52\n",
      "21\n",
      "--- even ages ---\n",
      "18\n",
      "34\n",
      "22\n",
      "48\n",
      "52\n"
     ]
    }
   ],
   "source": [
    "kengarooAges = [\n",
    "    21,\n",
    "    43,\n",
    "    37,\n",
    "    25,\n",
    "    23,\n",
    "    18,\n",
    "    34,\n",
    "    55,\n",
    "    22,\n",
    "    48,\n",
    "    52,\n",
    "    21\n",
    "]\n",
    "print(\"--- all ages ---\")\n",
    "for kengarooAge in kengarooAges:\n",
    "    print(kengarooAge)\n",
    "\n",
    "print(\"--- even ages ---\")\n",
    "for kengarooAge in kengarooAges:\n",
    "    if kengarooAge % 2 == 0:\n",
    "        print(kengarooAge)\n"
   ],
   "metadata": {
    "collapsed": false
   }
  },
  {
   "cell_type": "code",
   "execution_count": 43,
   "outputs": [],
   "source": [],
   "metadata": {
    "collapsed": false
   }
  }
 ],
 "metadata": {
  "kernelspec": {
   "display_name": "Python 3",
   "language": "python",
   "name": "python3"
  },
  "language_info": {
   "codemirror_mode": {
    "name": "ipython",
    "version": 2
   },
   "file_extension": ".py",
   "mimetype": "text/x-python",
   "name": "python",
   "nbconvert_exporter": "python",
   "pygments_lexer": "ipython2",
   "version": "2.7.6"
  }
 },
 "nbformat": 4,
 "nbformat_minor": 0
}
