{
 "cells": [
  {
   "cell_type": "markdown",
   "source": [
    "Your task is to construct a building which will be a pile of n cubes. The cube at the bottom will have a volume of n3 n^3 n3, the cube above will have volume of (n−1)3 (n-1)^3 (n−1)3 and so on until the top which will have a volume of 13 1^3 13.\n",
    "\n",
    "You are given the total volume m of the building. Being given m can you find the number n of cubes you will have to build?\n",
    "\n",
    "The parameter of the function findNb (find_nb, find-nb, findNb, ...) will be an integer m and you have to return the integer n such as n3+(n−1)3+(n−2)3+...+13=m n^3 + (n-1)^3 + (n-2)^3 + ... + 1^3 = m n3+(n−1)3+(n−2)3+...+13=m if such a n exists or -1 if there is no such n.\n",
    "Examples:\n",
    "\n",
    "findNb(1071225) --> 45\n",
    "\n",
    "findNb(91716553919377) --> -1\n"
   ],
   "metadata": {
    "collapsed": false
   }
  },
  {
   "cell_type": "code",
   "execution_count": 26,
   "outputs": [
    {
     "name": "stdout",
     "output_type": "stream",
     "text": [
      "2022\n",
      "-1\n",
      "4824\n",
      "3568\n",
      "3218\n"
     ]
    }
   ],
   "source": [
    "def find_nb(m):\n",
    "    n = 0\n",
    "    s = n\n",
    "    while True:\n",
    "        n += 1\n",
    "        s += n ** 3\n",
    "        if s == m:\n",
    "            return n\n",
    "        elif s > m:\n",
    "            return -1\n",
    "\n",
    "print(find_nb(4183059834009)) # 2022\n",
    "print(find_nb(24723578342962)) # -1\n",
    "print(find_nb(135440716410000)) # 4824\n",
    "print(find_nb(40539911473216)) # 3568\n",
    "print(find_nb(26825883955641)) #3218\n"
   ],
   "metadata": {
    "collapsed": false
   }
  },
  {
   "cell_type": "code",
   "execution_count": 27,
   "outputs": [
    {
     "name": "stdout",
     "output_type": "stream",
     "text": [
      "10 + 2\n",
      "40 + 2\n",
      "70000 + 300 + 4\n"
     ]
    }
   ],
   "source": [
    "def expanded_form(num):\n",
    "    digits = list(str(num))\n",
    "    digits_with_zeroes = []\n",
    "    for i, d in enumerate(reversed(digits)):\n",
    "        if d != '0':\n",
    "            digits_with_zeroes.append(d + '0'*i)\n",
    "    return ' + '.join(reversed(digits_with_zeroes))\n",
    "\n",
    "\n",
    "print(expanded_form(12)) # Should return '10 + 2'\n",
    "print(expanded_form(42)) # Should return '40 + 2'\n",
    "print(expanded_form(70304)) # Should return '70000 + 300 + 4'"
   ],
   "metadata": {
    "collapsed": false
   }
  },
  {
   "cell_type": "markdown",
   "source": [
    "There is an array with some numbers. All numbers are equal except for one. Try to find it!\n",
    "\n",
    "find_uniq([ 1, 1, 1, 2, 1, 1 ]) == 2\n",
    "find_uniq([ 0, 0, 0.55, 0, 0 ]) == 0.55\n",
    "\n",
    "It’s guaranteed that array contains at least 3 numbers.\n",
    "\n",
    "The tests contain some very huge arrays, so think about performance."
   ],
   "metadata": {
    "collapsed": false
   }
  },
  {
   "cell_type": "code",
   "execution_count": 29,
   "outputs": [
    {
     "name": "stdout",
     "output_type": "stream",
     "text": [
      "2\n",
      "0.55\n"
     ]
    }
   ],
   "source": [
    "def find_uniq(arr):\n",
    "    a, b = set(arr)\n",
    "    unique_numbers = set(arr)\n",
    "    for un in unique_numbers:\n",
    "        if arr.count(un) == 1:\n",
    "            return un\n",
    "    return None\n",
    "\n",
    "print(find_uniq([ 1, 1, 1, 2, 1, 1 ]))\n",
    "print(find_uniq([ 0, 0, 0.55, 0, 0 ]))\n"
   ],
   "metadata": {
    "collapsed": false
   }
  }
 ],
 "metadata": {
  "kernelspec": {
   "display_name": "Python 3",
   "language": "python",
   "name": "python3"
  },
  "language_info": {
   "codemirror_mode": {
    "name": "ipython",
    "version": 2
   },
   "file_extension": ".py",
   "mimetype": "text/x-python",
   "name": "python",
   "nbconvert_exporter": "python",
   "pygments_lexer": "ipython2",
   "version": "2.7.6"
  }
 },
 "nbformat": 4,
 "nbformat_minor": 0
}
