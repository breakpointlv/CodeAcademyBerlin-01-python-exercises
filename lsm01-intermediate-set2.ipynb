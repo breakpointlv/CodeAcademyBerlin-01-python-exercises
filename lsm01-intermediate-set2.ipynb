{
 "cells": [
  {
   "cell_type": "markdown",
   "source": [
    "## 2\n",
    "A Narcissistic Number is a number which is the sum of its own digits, each raised\n",
    "to the power of the number of digits in a given base. In this problem, we will restrict\n",
    "ourselves to decimal (base 10)."
   ],
   "metadata": {
    "collapsed": false
   }
  },
  {
   "cell_type": "code",
   "execution_count": 10,
   "outputs": [
    {
     "name": "stdout",
     "output_type": "stream",
     "text": [
      "True\n",
      "True\n",
      "False\n"
     ]
    }
   ],
   "source": [
    "def is_narcissistic(num):\n",
    "    # get list of all digits\n",
    "    list_of_digits = list(map(int, list(str(num))))\n",
    "    # how many digits are there?\n",
    "    power = len(list_of_digits)\n",
    "\n",
    "    sum_of_powers = 0\n",
    "    for digit in list_of_digits:\n",
    "        sum_of_powers += digit ** power\n",
    "    return num == sum_of_powers\n",
    "\n",
    "print(is_narcissistic(153))\n",
    "print(is_narcissistic(1634))\n",
    "print(is_narcissistic(120))"
   ],
   "metadata": {
    "collapsed": false
   }
  },
  {
   "cell_type": "markdown",
   "source": [
    "## 3\n",
    "A pangram is a sentence that contains every\n",
    "single letter of the alphabet at least once. For\n",
    "example, the sentence “The quick brown fox\n",
    "jumps over the lazy dog” is a pangram, because it\n",
    "uses the letters A-Z at least once.\n",
    "\n",
    "Given a string, detect whether or not it is a\n",
    "pangram. Ignore numbers and punctuation."
   ],
   "metadata": {
    "collapsed": false
   }
  },
  {
   "cell_type": "code",
   "execution_count": 11,
   "outputs": [
    {
     "name": "stdout",
     "output_type": "stream",
     "text": [
      "True\n",
      "False\n"
     ]
    }
   ],
   "source": [
    "import string\n",
    "\n",
    "def is_pangram(text):\n",
    "    all_letters = list(string.ascii_lowercase)\n",
    "    text = text.lower()\n",
    "\n",
    "    for letter in all_letters:\n",
    "        if letter not in text:\n",
    "            return False\n",
    "\n",
    "    return True\n",
    "\n",
    "print(is_pangram(\"The quick brown fox jumps over the lazy dog\"))\n",
    "print(is_pangram(\"The quick brown fox jumps over the lazy\"))"
   ],
   "metadata": {
    "collapsed": false
   }
  },
  {
   "cell_type": "markdown",
   "source": [
    "## 4\n",
    "In the city of Cartesia, all roads are laid out in a perfect grid. You arrived ten\n",
    "minutes earlier to an appointment, so you decided to take the opportunity to go for a\n",
    "short walk. The city provides its citizens with a Walk Generating App on their phones\n",
    "— every time you press the button it sends you an array of one-letter strings\n",
    "representing directions to walk (e.g. [‘n’, ‘s’, ‘w’, ‘e’]). You always walk only a single\n",
    "block in a direction and you know it takes you one minute to traverse one city block,\n",
    "so create a function that will return True if the walk the app tells you that you will\n",
    "take exactly ten minutes (you don’t want to be early or late!) and will, of course, return\n",
    "to your starting point. Return False otherwise.\n",
    "\n",
    "Note: you will always receive a valid array containing a random assortment of\n",
    "direction letters (‘n’, ‘s’, ‘e’, or ‘w’ only). It will never give you an empty array (that’s not\n",
    "a walk, that’s standing still!).\n",
    "\n",
    "![](http://www.guineapigcagesstore.com/Shared/Images/Product/Standard-Grid/standard-grid.jpg)\n",
    "`[\"s\", \"e\", \"w\", \"n\", \"n\", \"s\", \"e\", \"w\", \"n\", \"s\"]`"
   ],
   "metadata": {
    "collapsed": false
   }
  },
  {
   "cell_type": "code",
   "execution_count": 12,
   "outputs": [
    {
     "name": "stdout",
     "output_type": "stream",
     "text": [
      "False\n",
      "False\n",
      "False\n",
      "False\n",
      "True\n",
      "False\n"
     ]
    }
   ],
   "source": [
    "def is_optimal_route(navigation):\n",
    "    # not 10 steps? should take exactly 10 minutes\n",
    "    if len(navigation) != 10:\n",
    "        return False\n",
    "\n",
    "    # starting position\n",
    "    x = 0\n",
    "    y = 0\n",
    "\n",
    "    for direction in navigation:\n",
    "        # we go UP on the map\n",
    "        if direction == 'n':\n",
    "            x += 1\n",
    "        # we go DOWN on the map\n",
    "        if direction == 's':\n",
    "            x -= 1\n",
    "        # we go RIGHT on the map\n",
    "        if direction == 'w':\n",
    "            y += 1\n",
    "        # we go LEFT on the map\n",
    "        if direction == 'e':\n",
    "            y -= 1\n",
    "\n",
    "    return x == 0 and y == 0\n",
    "\n",
    "\n",
    "def is_optimal_route2(walk):\n",
    "    return len(walk) == 10 and walk.count('n') == walk.count('s') and walk.count('e') == walk.count('w')\n",
    "\n",
    "\n",
    "print(is_optimal_route([\"n\", \"e\", \"e\", \"n\", \"e\", \"w\", \"n\", \"n\", \"s\", \"e\"])) # False\n",
    "print(is_optimal_route([\"e\", \"n\", \"w\", \"e\", \"e\", \"s\", \"n\", \"s\", \"e\", \"n\", \"n\", \"s\", \"n\", \"e\", \"w\", \"n\", \"n\", \"n\", \"s\"])) # False\n",
    "print(is_optimal_route([\"s\", \"e\", \"s\", \"n\", \"s\", \"s\", \"s\", \"w\", \"e\", \"e\", \"e\", \"w\", \"s\"])) # False\n",
    "print(is_optimal_route([\"e\", \"w\", \"e\", \"n\", \"s\"])) # False\n",
    "print(is_optimal_route([\"s\", \"e\", \"w\", \"n\", \"n\", \"s\", \"e\", \"w\", \"n\", \"s\"])) # True\n",
    "print(is_optimal_route([\"s\", \"e\", \"w\", \"w\", \"n\", \"s\", \"e\", \"w\", \"n\", \"s\"])) # False"
   ],
   "metadata": {
    "collapsed": false
   }
  },
  {
   "cell_type": "markdown",
   "source": [
    "## 6\n",
    "The maximum sum subarray problem consists in finding the maximum sum of a\n",
    "contiguous subsequence in an array or list of integers:"
   ],
   "metadata": {
    "collapsed": false
   }
  },
  {
   "cell_type": "code",
   "execution_count": null,
   "outputs": [],
   "source": [
    "def maxSequence(num_list):\n",
    "    num_items = len(num_list)\n",
    "    max_sum = float('-inf')\n",
    "\n",
    "    for i in range(0, num_items):\n",
    "        for j in range(i, num_items):\n",
    "            max_sum = max(max_sum, sum(num_list[i:j]))\n",
    "\n",
    "    return max_sum\n",
    "\n",
    "\n",
    "# 4 + (-1) + 2 + 1 = 6\n",
    "print(maxSequence([-2, 1, -3, 4, -1, 2, 1, -5, 4]))"
   ],
   "metadata": {
    "collapsed": false
   }
  },
  {
   "cell_type": "markdown",
   "source": [],
   "metadata": {
    "collapsed": false
   }
  }
 ],
 "metadata": {
  "kernelspec": {
   "display_name": "Python 3",
   "language": "python",
   "name": "python3"
  },
  "language_info": {
   "codemirror_mode": {
    "name": "ipython",
    "version": 2
   },
   "file_extension": ".py",
   "mimetype": "text/x-python",
   "name": "python",
   "nbconvert_exporter": "python",
   "pygments_lexer": "ipython2",
   "version": "2.7.6"
  }
 },
 "nbformat": 4,
 "nbformat_minor": 0
}
