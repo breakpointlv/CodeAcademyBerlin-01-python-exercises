{
 "cells": [
  {
   "cell_type": "markdown",
   "source": [
    "## 1\n",
    "You are given an array strarr of strings and an integer k. Your task is to return the\n",
    "first longest string consisting of k consecutive strings taken in the array."
   ],
   "metadata": {
    "collapsed": false
   }
  },
  {
   "cell_type": "code",
   "execution_count": 57,
   "outputs": [
    {
     "name": "stdout",
     "output_type": "stream",
     "text": [
      "abigailtheta\n"
     ]
    }
   ],
   "source": [
    "def longest_consec(list_of_string, k):\n",
    "    str_cnt = len(list_of_string)\n",
    "\n",
    "    if str_cnt == 0 or k > str_cnt or k <= 0:\n",
    "        return \"\"\n",
    "\n",
    "    results = {}\n",
    "\n",
    "    for i, str in enumerate(list_of_string):\n",
    "        if i > str_cnt - k:\n",
    "            break\n",
    "        conc_str = ''.join(list_of_string[i:i+k])\n",
    "        conc_str_len = len(conc_str)\n",
    "        if conc_str_len not in results:\n",
    "            results[conc_str_len] = conc_str\n",
    "\n",
    "    longest_len = max(results)\n",
    "    return results[longest_len]\n",
    "\n",
    "\n",
    "\n",
    "print(longest_consec([\"zone\", \"abigail\", \"theta\", \"form\", \"libe\", \"zas\", \"theta\", \"abigail\"], 2)) # \"abigailtheta\""
   ],
   "metadata": {
    "collapsed": false
   }
  },
  {
   "cell_type": "markdown",
   "source": [
    "## 2\n",
    "Alice and Bob were on a holiday. Both of them took\n",
    "many pictures of the places they’ve been, and now\n",
    "they want to show Charlie their entire collection.\n",
    "However, Charlie doesn’t like this sessions, since the\n",
    "motive usually repeats. He isn’t fond of seeing\n",
    "the Eiffel tower 40 times. He tells them that he will\n",
    "only sit during the session if they show the same\n",
    "motive at most N times. Luckily, Alice and Bob are\n",
    "able to encode the motive as a number. Can you help\n",
    "them to remove numbers such that their list contains\n",
    "each number only up to N times, without changing\n",
    "the order?\n",
    "\n",
    "Task\n",
    "Given a list lst and a number N, create a new list that\n",
    "contains each number of lst at most N times without\n",
    "reordering. For example if N = 2, and the input is\n",
    "[1,2,3,1,2,1,2,3], you take [1,2,3,1,2], drop the next [1,2]\n",
    "since this would lead to 1 and 2 being in the result 3\n",
    "times, and then take 3, which leads to [1,2,3,1,2,3]."
   ],
   "metadata": {
    "collapsed": false
   }
  },
  {
   "cell_type": "code",
   "execution_count": 58,
   "outputs": [
    {
     "name": "stdout",
     "output_type": "stream",
     "text": [
      "[1, 1]\n",
      "[20, 37, 21]\n"
     ]
    }
   ],
   "source": [
    "def delete_nth(num_list, n):\n",
    "    nums_encountered = {}\n",
    "    updated_list = []\n",
    "    for num in num_list:\n",
    "        if num not in nums_encountered:\n",
    "            nums_encountered[num] = 1\n",
    "            updated_list.append(num)\n",
    "        elif nums_encountered[num] < n:\n",
    "            updated_list.append(num)\n",
    "            nums_encountered[num] += 1\n",
    "    return updated_list\n",
    "\n",
    "print(delete_nth([1,1,1,1],2)) # return [1,1]\n",
    "print(delete_nth([20,37,20,21],1)) # return [20,37,21]"
   ],
   "metadata": {
    "collapsed": false
   }
  },
  {
   "cell_type": "markdown",
   "source": [
    "## 3\n",
    "given a string, replace every letter with its position in the alphabet.\n",
    "If anything in the text isn’t a letter, ignore it and don’t return it."
   ],
   "metadata": {
    "collapsed": false
   }
  },
  {
   "cell_type": "code",
   "execution_count": 59,
   "outputs": [
    {
     "name": "stdout",
     "output_type": "stream",
     "text": [
      "20 8 5 19 21 14 19 5 20 19 5 20 19 1 20 20 23 5 12 22 5 15 3 12 15 3 11\n"
     ]
    }
   ],
   "source": [
    "import string\n",
    "\n",
    "def alphabet_position(text):\n",
    "    # ['a', 'b', 'c', 'd', 'e', 'f', 'g', 'h', 'i', 'j', 'k', 'l', 'm', 'n', 'o', 'p', 'q', 'r', 's', 't', 'u', 'v', 'w', 'x', 'y', 'z'\n",
    "    alphabet = list(string.ascii_lowercase)\n",
    "    text = text.lower()\n",
    "\n",
    "    letter_position_list = []\n",
    "    for s in text:\n",
    "        try:\n",
    "            char_position = alphabet.index(s) + 1\n",
    "            letter_position_list.append(str(char_position))\n",
    "        except ValueError:\n",
    "            # do nothing, if this symbol is not the part of alphabet\n",
    "            continue\n",
    "\n",
    "    return ' '.join(letter_position_list)\n",
    "\n",
    "\n",
    "print(alphabet_position(\"The sunset sets at twelve o’ clock.\"))"
   ],
   "metadata": {
    "collapsed": false
   }
  },
  {
   "cell_type": "markdown",
   "source": [
    "## 6\n",
    "Complete the function scramble(str1, str2) that returns true if a portion of str1 characters can be rearranged to match str2, otherwise returns false."
   ],
   "metadata": {
    "collapsed": false
   }
  },
  {
   "cell_type": "code",
   "execution_count": 60,
   "outputs": [
    {
     "name": "stdout",
     "output_type": "stream",
     "text": [
      "True\n",
      "True\n",
      "False\n"
     ]
    }
   ],
   "source": [
    "def scramble(str1, str2):\n",
    "    list1 = list(str1)\n",
    "    list2 = list(str2)\n",
    "    list1.sort()\n",
    "    list2.sort()\n",
    "    return all(x in list1 for x in list2)\n",
    "\n",
    "\n",
    "print(scramble('rkqodlw', 'world')) # True\n",
    "print(scramble('cedewaraaossoqqyt', 'codewars')) # True\n",
    "print(scramble('katas', 'steak')) # False"
   ],
   "metadata": {
    "collapsed": false
   }
  },
  {
   "cell_type": "markdown",
   "source": [
    "## 6\n",
    "The maximum sum subarray problem consists in finding the maximum sum of a\n",
    "contiguous subsequence in an array or list of integers:"
   ],
   "metadata": {
    "collapsed": false
   }
  },
  {
   "cell_type": "code",
   "execution_count": 62,
   "outputs": [
    {
     "name": "stdout",
     "output_type": "stream",
     "text": [
      "6\n"
     ]
    }
   ],
   "source": [
    "def maxSequence(num_list):\n",
    "    num_items = len(num_list)\n",
    "    max_sum = float('-inf')\n",
    "\n",
    "    for i in range(0, num_items):\n",
    "        for j in range(i, num_items):\n",
    "            curr_sum = sum(num_list[i:j])\n",
    "            if curr_sum > max_sum:\n",
    "                max_sum = curr_sum\n",
    "\n",
    "    return max_sum\n",
    "\n",
    "\n",
    "# 4 + (-1) + 2 + 1 = 6\n",
    "print(maxSequence([-2, 1, -3, 4, -1, 2, 1, -5, 4]))"
   ],
   "metadata": {
    "collapsed": false
   }
  }
 ],
 "metadata": {
  "kernelspec": {
   "display_name": "Python 3",
   "language": "python",
   "name": "python3"
  },
  "language_info": {
   "codemirror_mode": {
    "name": "ipython",
    "version": 2
   },
   "file_extension": ".py",
   "mimetype": "text/x-python",
   "name": "python",
   "nbconvert_exporter": "python",
   "pygments_lexer": "ipython2",
   "version": "2.7.6"
  }
 },
 "nbformat": 4,
 "nbformat_minor": 0
}
