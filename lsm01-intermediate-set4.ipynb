{
 "cells": [
  {
   "cell_type": "markdown",
   "source": [
    "## 1\n",
    "In a small town in country Dreamland, the\n",
    "initial population is 1000 at the beginning of a year. The\n",
    "population regularly increases by 4 percent per year and\n",
    "recently the town has set up new industries. So,100\n",
    "new inhabitants come for job or studies every year.\n",
    "\n",
    "The townhead wants an estimate that in how many years,\n",
    "the the town will get certain population based\n",
    "on varying ‘percentage of population growth‘ and ‘number of\n",
    "incoming people‘.\n",
    "\n",
    "A sample question from townhead would be:\n",
    "How many years does the town need to see\n",
    "its target population greater or equal to 1200 inhabitants?\n",
    "\n",
    "At the end of the first year there will be:\n",
    "\n",
    "1000 + 1000 * 0.04 + 100 => 1140 inhabitants\n",
    "\n",
    "At the end of the 2nd year there will be:\n",
    "1140 + 1140 * 0.04 + 100 => 1286 inhabitants (population can not\n",
    "be fraction)\n",
    "\n",
    "It will need 2 entire years.\n",
    "\n",
    "More generally given parameters:\n",
    "population, percent, newcomers, target (population to surpass)\n",
    "\n",
    "the function number_of_years should return n number of entire\n",
    "years needed to get a population greater or equal to target.\n",
    "newcomers is an integer, percent a positive or null\n",
    "number, population and target are positive integers (> 0)"
   ],
   "metadata": {
    "collapsed": false
   }
  },
  {
   "cell_type": "code",
   "execution_count": 34,
   "outputs": [
    {
     "name": "stdout",
     "output_type": "stream",
     "text": [
      "26\n",
      "10\n"
     ]
    }
   ],
   "source": [
    "def number_of_years(population, percent, newcomers, target):\n",
    "    years = 0\n",
    "\n",
    "    while population < target:\n",
    "        population += population * (percent / 100) + newcomers\n",
    "        years += 1\n",
    "\n",
    "    return years\n",
    "\n",
    "print(number_of_years(1500, 5, 100, 10000)) # 26\n",
    "print(number_of_years(1500000, 2.5, 10000, 2000000)) # 10"
   ],
   "metadata": {
    "collapsed": false
   }
  },
  {
   "cell_type": "markdown",
   "source": [
    "## 3\n",
    "An array is circularly sorted if the elements are sorted in ascending order, but\n",
    "Complete the function/method that determines if the given array of integers is\n",
    "circularly sorted.\n",
    "\n",
    "[2, 3, 4, 5, 0, 1]"
   ],
   "metadata": {
    "collapsed": false
   }
  },
  {
   "cell_type": "code",
   "execution_count": 35,
   "outputs": [
    {
     "name": "stdout",
     "output_type": "stream",
     "text": [
      "True\n",
      "True\n",
      "True\n",
      "True\n",
      "True\n",
      "False\n",
      "False\n",
      "False\n",
      "False\n"
     ]
    }
   ],
   "source": [
    "def is_circularly_sorted(arr):\n",
    "    # how many times does the sorted pattern break?\n",
    "    errors_in_pattern = 0\n",
    "    # previous element is stored here\n",
    "    prev = None\n",
    "\n",
    "    for el in arr:\n",
    "        # is the previous number < than this one? It's an error in pattern\n",
    "        if prev is not None and el < prev:\n",
    "            errors_in_pattern += 1\n",
    "        # more than one error already? This list is not circularly sorted\n",
    "        if errors_in_pattern > 1:\n",
    "            return False\n",
    "        prev = el\n",
    "\n",
    "    # return True if no pattern errors or the first element is greater than the first\n",
    "    return (errors_in_pattern == 1 and arr[0] > arr[-1]) or  errors_in_pattern == 0\n",
    "\n",
    "\n",
    "# True\n",
    "print(is_circularly_sorted([2, 3, 4, 5, 0, 1]))\n",
    "print(is_circularly_sorted([4, 5, 6, 9, 1]))\n",
    "print(is_circularly_sorted([10, 11, 6, 7, 9]))\n",
    "print(is_circularly_sorted([1, 2, 3, 4, 5]))\n",
    "print(is_circularly_sorted([5, 7, 43, 987, -9, 0]))\n",
    "\n",
    "# False\n",
    "print(is_circularly_sorted([4, 1, 2, 5]))\n",
    "print(is_circularly_sorted([8, 7, 6, 5, 4, 3]))\n",
    "print(is_circularly_sorted([6, 7, 4, 8]))\n",
    "print(is_circularly_sorted([7, 6, 5, 4, 3, 2, 1]))"
   ],
   "metadata": {
    "collapsed": false
   }
  },
  {
   "cell_type": "markdown",
   "source": [
    "## 4\n",
    "The new movie “SpaceXtreme” has just been released! There\n",
    "are a lot of people at the cinema box office standing in a huge\n",
    "line. Each of them has a single 100, 50 or 25 dollar bill. An\n",
    "“SpaceXtreme” ticket costs 25 dollars.\n",
    "\n",
    "Steve is currently working as a clerk. He wants to sell a ticket to\n",
    "every single person in this line.\n",
    "Can Steve sell a ticket to every person and give change if he\n",
    "initially has no money and sells the tickets strictly in the order\n",
    "people queue?\n",
    "\n",
    "Return YES, if Steve can sell a ticket to every person and give change\n",
    "with the bills he has at hand at that moment.\n",
    "Otherwise return NO."
   ],
   "metadata": {
    "collapsed": false
   }
  },
  {
   "cell_type": "code",
   "execution_count": 36,
   "outputs": [
    {
     "name": "stdout",
     "output_type": "stream",
     "text": [
      "True\n",
      "False\n",
      "False\n"
     ]
    }
   ],
   "source": [
    "def tickets(customer_bills):\n",
    "    bills = {\n",
    "        25: 0,\n",
    "        50: 0,\n",
    "        100: 0\n",
    "    }\n",
    "    for c in customer_bills:\n",
    "        success = False\n",
    "\n",
    "        # customer gave 25 bill, no change needed\n",
    "        if c == 25:\n",
    "            success = True\n",
    "\n",
    "        # customer gave 50, do we have 25?\n",
    "        if c == 50 and bills[25] > 0:\n",
    "            bills[25] -= 1\n",
    "            success = True\n",
    "\n",
    "        # customer gave 100, do we have 50 + 25?\n",
    "        if c == 100 and bills[25] > 0 and bills[50] > 0:\n",
    "            bills[25] -= 1\n",
    "            bills[50] -= 1\n",
    "            success = True\n",
    "\n",
    "        # customer gave 100, we don't have 50 + 25, but do we have 25 + 25 + 25?\n",
    "        if c == 100 and bills[25] > 2 and bills[50] == 0:\n",
    "            bills[25] -= 3\n",
    "            success = True\n",
    "\n",
    "        if success:\n",
    "            bills[c] += 1\n",
    "        else:\n",
    "            return False\n",
    "\n",
    "    return True\n",
    "\n",
    "\n",
    "print(tickets([25, 25, 50])) # => YES\n",
    "print(tickets([25, 100])) # => NO. Steve will not have enough money to give change to 100 dollars\n",
    "print(tickets([25, 25, 50, 50, 100])) # NO"
   ],
   "metadata": {
    "collapsed": false
   }
  },
  {
   "cell_type": "code",
   "execution_count": 37,
   "outputs": [
    {
     "name": "stdout",
     "output_type": "stream",
     "text": [
      "True\n",
      "False\n",
      "False\n",
      "False\n"
     ]
    }
   ],
   "source": [
    "def tickets_universal(customer_bills, ticket_price):\n",
    "    bills = {}\n",
    "    for c in customer_bills:\n",
    "        if c == ticket_price:\n",
    "            bills[c] = bills.get(c, 0) + 1\n",
    "        elif c > ticket_price:\n",
    "            left_to_give = c - ticket_price\n",
    "            for amount in reversed(bills):\n",
    "                while bills[amount] > 0 and left_to_give >= amount:\n",
    "                    bills[amount] -= 1\n",
    "                    left_to_give -= amount\n",
    "            if left_to_give == 0:\n",
    "                bills[c] = bills.get(c, 0) + 1\n",
    "            else:\n",
    "                return False\n",
    "        else:\n",
    "            raise Exception(\"Bill to small, not enough money\")\n",
    "    return True\n",
    "\n",
    "\n",
    "print(tickets_universal([25, 25, 50], 25)) # => YES\n",
    "print(tickets_universal([25, 100], 25)) # => NO. Steve will not have enough money to give change to 100 dollars\n",
    "print(tickets_universal([25, 25, 50, 50, 100], 25)) # NO\n",
    "print(tickets_universal([25, 25, 25, 25, 25, 25, 50, 50, 100, 500], 25)) # NO"
   ],
   "metadata": {
    "collapsed": false
   }
  },
  {
   "cell_type": "code",
   "execution_count": 37,
   "outputs": [],
   "source": [],
   "metadata": {
    "collapsed": false
   }
  }
 ],
 "metadata": {
  "kernelspec": {
   "display_name": "Python 3",
   "language": "python",
   "name": "python3"
  },
  "language_info": {
   "codemirror_mode": {
    "name": "ipython",
    "version": 2
   },
   "file_extension": ".py",
   "mimetype": "text/x-python",
   "name": "python",
   "nbconvert_exporter": "python",
   "pygments_lexer": "ipython2",
   "version": "2.7.6"
  }
 },
 "nbformat": 4,
 "nbformat_minor": 0
}
